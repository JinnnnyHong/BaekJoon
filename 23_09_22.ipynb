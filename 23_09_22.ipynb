{
  "nbformat": 4,
  "nbformat_minor": 0,
  "metadata": {
    "colab": {
      "provenance": [],
      "authorship_tag": "ABX9TyPLtp5PQ538t3Q3T1CA9tqs",
      "include_colab_link": true
    },
    "kernelspec": {
      "name": "python3",
      "display_name": "Python 3"
    },
    "language_info": {
      "name": "python"
    }
  },
  "cells": [
    {
      "cell_type": "markdown",
      "metadata": {
        "id": "view-in-github",
        "colab_type": "text"
      },
      "source": [
        "<a href=\"https://colab.research.google.com/github/JinnnnyHong/BaekJoon/blob/main/23_09_22.ipynb\" target=\"_parent\"><img src=\"https://colab.research.google.com/assets/colab-badge.svg\" alt=\"Open In Colab\"/></a>"
      ]
    },
    {
      "cell_type": "markdown",
      "source": [
        "### 9325\n",
        "\n",
        "p와 q의 곱이 각 테스트케이스별로 따로 더해져야하는 것과 테스트케이스 안에서 p*q의 값이 축적되어야 하는 것이 포인트였고, 이에 c를 처음 for문 안으로 넣어 해결하였다."
      ],
      "metadata": {
        "id": "vDOPC9ih1_TD"
      }
    },
    {
      "cell_type": "code",
      "execution_count": 17,
      "metadata": {
        "colab": {
          "base_uri": "https://localhost:8080/"
        },
        "id": "Tdgk-II5bAD2",
        "outputId": "668b557d-1528-4932-dcdd-260706200cf2"
      },
      "outputs": [
        {
          "output_type": "stream",
          "name": "stdout",
          "text": [
            "2\n",
            "10000\n",
            "2\n",
            "1 2000\n",
            "3 400\n",
            "13200\n",
            "50000\n",
            "0\n",
            "50000\n"
          ]
        }
      ],
      "source": [
        "for _ in range(int(input())):\n",
        "  s = int(input())\n",
        "  c = 0\n",
        "  for k in range(int(input())):\n",
        "    p, q = map(int, input().split())\n",
        "    c += p*q\n",
        "\n",
        "  print(c+s)"
      ]
    },
    {
      "cell_type": "markdown",
      "source": [
        "# 10833\n",
        "\n"
      ],
      "metadata": {
        "id": "mhIkE3AU5IQV"
      }
    },
    {
      "cell_type": "code",
      "source": [
        "L = []\n",
        "for i in range(int(input())):\n",
        "  a, b = map(int, input().split())\n",
        "  c = b % a\n",
        "  L.append(c)\n",
        "print(sum(L))"
      ],
      "metadata": {
        "id": "WoqDls542rRA"
      },
      "execution_count": null,
      "outputs": []
    },
    {
      "cell_type": "markdown",
      "source": [
        "### 2752"
      ],
      "metadata": {
        "id": "42l-jXJQgs0e"
      }
    },
    {
      "cell_type": "code",
      "source": [
        "a = list(map(int, input().split()))\n",
        "a.sort()\n",
        "print(a[0], a[1], a[2])"
      ],
      "metadata": {
        "colab": {
          "base_uri": "https://localhost:8080/"
        },
        "id": "WoeXqASOgt0y",
        "outputId": "27055373-5bc5-4f5f-d274-1a37668649c8"
      },
      "execution_count": 11,
      "outputs": [
        {
          "output_type": "stream",
          "name": "stdout",
          "text": [
            "3 1 2\n",
            "1 2 3\n"
          ]
        }
      ]
    },
    {
      "cell_type": "markdown",
      "source": [
        "### 2490\n",
        "\n",
        "count 함수를 이용해 0의 개수에 따른 결과값 출력"
      ],
      "metadata": {
        "id": "x5-OE7aniaZJ"
      }
    },
    {
      "cell_type": "code",
      "source": [
        "for i in range(3):\n",
        "  a = list(map(int, input().split()))\n",
        "  if a.count(0) == 0:\n",
        "    print('E')\n",
        "  elif a.count(0) == 1:\n",
        "    print('A')\n",
        "  elif a.count(0) == 2:\n",
        "    print('B')\n",
        "  elif a.count(0) == 3:\n",
        "    print('C')\n",
        "  else:\n",
        "    print('D')"
      ],
      "metadata": {
        "colab": {
          "base_uri": "https://localhost:8080/"
        },
        "id": "ag7LHWAxgylJ",
        "outputId": "a9e4fb97-8e6b-4609-cc17-bf37e7b47de2"
      },
      "execution_count": 18,
      "outputs": [
        {
          "output_type": "stream",
          "name": "stdout",
          "text": [
            "0 1 0 1\n",
            "B\n",
            "1 1 1 0\n",
            "A\n",
            "0 0 1 1\n",
            "B\n"
          ]
        }
      ]
    },
    {
      "cell_type": "markdown",
      "source": [
        "### 2484"
      ],
      "metadata": {
        "id": "XKPjE_dPkLwv"
      }
    },
    {
      "cell_type": "code",
      "source": [
        "L = []\n",
        "for i in range(5):\n",
        "  a = int(input())\n",
        "  L.append(a)\n",
        "L.sort()\n",
        "print(int(sum(L)/len(L)))\n",
        "print(L[2])"
      ],
      "metadata": {
        "colab": {
          "base_uri": "https://localhost:8080/"
        },
        "id": "GMCfi88_i2-t",
        "outputId": "62421e20-55f9-45bd-9a5e-ca6ecf1df512"
      },
      "execution_count": 32,
      "outputs": [
        {
          "output_type": "stream",
          "name": "stdout",
          "text": [
            "10\n",
            "40\n",
            "30\n",
            "60\n",
            "30\n",
            "34\n",
            "30\n"
          ]
        }
      ]
    },
    {
      "cell_type": "markdown",
      "source": [
        "### 10093\n",
        "\n",
        "같은 수 사이에는 두 수 사이의 수가 없지만, 따로 처리를 해주지 않을 경우 -1 출력이므로 else 문으로 처리"
      ],
      "metadata": {
        "id": "wQLQQHe6oV-T"
      }
    },
    {
      "cell_type": "code",
      "source": [
        "a,b = map(int, input().split())\n",
        "if a > b:\n",
        "  print(a-b-1)\n",
        "  for i in range(b+1, a):\n",
        "    print(i, end = ' ')\n",
        "elif b > a:\n",
        "  print(b-a-1)\n",
        "  for j in range(a+1, b):\n",
        "    print(j, end = ' ')\n",
        "else:\n",
        "  print(0)"
      ],
      "metadata": {
        "colab": {
          "base_uri": "https://localhost:8080/"
        },
        "id": "hjvHsecMo-pC",
        "outputId": "35d9d7cb-f32d-4e07-d8c9-ce6c388b4c81"
      },
      "execution_count": 53,
      "outputs": [
        {
          "output_type": "stream",
          "name": "stdout",
          "text": [
            "5 5\n",
            "0\n"
          ]
        }
      ]
    },
    {
      "cell_type": "markdown",
      "source": [
        "### 1267"
      ],
      "metadata": {
        "id": "LeyDSLOOxtdF"
      }
    },
    {
      "cell_type": "code",
      "source": [
        "n = int(input())\n",
        "k = list(map(int, input().split()))\n",
        "Y = M = 0\n",
        "for i in k:\n",
        "   Y +=  10*(int(i/30)) + 10\n",
        "   M  += 15*(int(i/60)) + 15\n",
        "if Y > M:\n",
        "  print(\"M\", M)\n",
        "elif Y < M:\n",
        "  print(\"Y\", Y)\n",
        "else:\n",
        "  print(\"Y M\", M)"
      ],
      "metadata": {
        "colab": {
          "base_uri": "https://localhost:8080/"
        },
        "id": "4GfxDpqaqufC",
        "outputId": "2673b549-70bb-4c0d-d0fb-da5be8f03be9"
      },
      "execution_count": 78,
      "outputs": [
        {
          "output_type": "stream",
          "name": "stdout",
          "text": [
            "3\n",
            "40 40 40\n",
            "M 45\n"
          ]
        }
      ]
    },
    {
      "cell_type": "markdown",
      "source": [
        "### 2445"
      ],
      "metadata": {
        "id": "9UMAQ0ZN3RVI"
      }
    },
    {
      "cell_type": "code",
      "source": [
        "n = int(input())\n",
        "for i in range(1, n+1):\n",
        "  print(\"*\"*i + ' '*(2*n-2*i)+ \"*\"*i)\n",
        "  i += 1\n",
        "for j in range(n+2, 2*n+1):\n",
        "  print(\"*\" *(2*n-j+1) + ' '*(-2*n+2*j-2)+ \"*\"*(2*n-j+1) )"
      ],
      "metadata": {
        "colab": {
          "base_uri": "https://localhost:8080/"
        },
        "id": "NV_Yndg_1DF3",
        "outputId": "b272d786-83fe-4bb1-a7c6-b1f1a07cb073"
      },
      "execution_count": 92,
      "outputs": [
        {
          "output_type": "stream",
          "name": "stdout",
          "text": [
            "5\n",
            "*        *\n",
            "**      **\n",
            "***    ***\n",
            "****  ****\n",
            "**********\n",
            "****  ****\n",
            "***    ***\n",
            "**      **\n",
            "*        *\n"
          ]
        }
      ]
    },
    {
      "cell_type": "markdown",
      "source": [
        "### 2446"
      ],
      "metadata": {
        "id": "b7FJJIhK7U6N"
      }
    },
    {
      "cell_type": "code",
      "source": [
        "n = int(input())\n",
        "for i in range(n, 0, -1):\n",
        "    print(\" \" * (n-i) + \"*\" * (2*i-1))\n",
        "for j in range(2,n+1):\n",
        "    print(\" \" * (n-j) + \"*\" * (2*j-1))"
      ],
      "metadata": {
        "colab": {
          "base_uri": "https://localhost:8080/"
        },
        "id": "bmH2T37W4QlN",
        "outputId": "f9bbc404-792e-425b-c7c5-9f3c1bea5570"
      },
      "execution_count": 96,
      "outputs": [
        {
          "output_type": "stream",
          "name": "stdout",
          "text": [
            "5\n",
            "*********\n",
            " *******\n",
            "  *****\n",
            "   ***\n",
            "    *\n",
            "   ***\n",
            "  *****\n",
            " *******\n",
            "*********\n"
          ]
        }
      ]
    },
    {
      "cell_type": "markdown",
      "source": [
        "###2309"
      ],
      "metadata": {
        "id": "G05oUq1-8uqF"
      }
    },
    {
      "cell_type": "code",
      "source": [
        "L = []\n",
        "for i in range(9):\n",
        "    L.append(int(input()))\n",
        "L.sort()\n",
        "sum_ = sum(L)\n",
        "for i in range(len(L)):\n",
        "    for j in range(i + 1, len(L)):\n",
        "        if sum_ - L[i] - L[j] == 100:\n",
        "            for k in range(len(L)):\n",
        "                if k == i or k == j:\n",
        "                    pass\n",
        "                else:\n",
        "                    print(L[k])\n",
        "            exit()\n"
      ],
      "metadata": {
        "colab": {
          "base_uri": "https://localhost:8080/"
        },
        "id": "ACLaRG5u8SPC",
        "outputId": "e5ad7e06-6dd5-468b-d791-63464742da74"
      },
      "execution_count": 102,
      "outputs": [
        {
          "output_type": "stream",
          "name": "stdout",
          "text": [
            "20\n",
            "7\n",
            "23\n",
            "19\n",
            "10\n",
            "15\n",
            "25\n",
            "8\n",
            "13\n",
            "7\n",
            "8\n",
            "10\n",
            "13\n",
            "19\n",
            "20\n",
            "23\n"
          ]
        }
      ]
    },
    {
      "cell_type": "code",
      "source": [],
      "metadata": {
        "id": "mgNklAZv_ZZT"
      },
      "execution_count": null,
      "outputs": []
    }
  ]
}