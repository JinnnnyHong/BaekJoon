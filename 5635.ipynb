{
  "nbformat": 4,
  "nbformat_minor": 0,
  "metadata": {
    "colab": {
      "provenance": [],
      "authorship_tag": "ABX9TyOgYMH6c5lc5iIyYefdALld",
      "include_colab_link": true
    },
    "kernelspec": {
      "name": "python3",
      "display_name": "Python 3"
    },
    "language_info": {
      "name": "python"
    }
  },
  "cells": [
    {
      "cell_type": "markdown",
      "metadata": {
        "id": "view-in-github",
        "colab_type": "text"
      },
      "source": [
        "<a href=\"https://colab.research.google.com/github/JinnnnyHong/BaekJoon/blob/main/5635.ipynb\" target=\"_parent\"><img src=\"https://colab.research.google.com/assets/colab-badge.svg\" alt=\"Open In Colab\"/></a>"
      ]
    },
    {
      "cell_type": "markdown",
      "source": [
        "### 5635\n"
      ],
      "metadata": {
        "id": "G22AbXvWWOss"
      }
    },
    {
      "cell_type": "code",
      "execution_count": null,
      "metadata": {
        "colab": {
          "base_uri": "https://localhost:8080/"
        },
        "id": "Ur6ThoPWWFpl",
        "outputId": "bf6bcd6e-74e1-42d7-a69f-032858acbfef"
      },
      "outputs": [
        {
          "output_type": "stream",
          "name": "stdout",
          "text": [
            "5\n",
            "Mickey 1 10 1991\n",
            "Alice 30 12 1990\n",
            "Tom 15 8 1993\n",
            "Jerry 18 9 1990\n",
            "Garfield 20 9 1990\n",
            "[[1990, 9, 18, 'Jerry'], [1990, 9, 20, 'Garfield'], [1990, 12, 30, 'Alice'], [1991, 10, 1, 'Mickey'], [1993, 8, 15, 'Tom']]\n",
            "[[1993, 8, 15, 'Tom'], [1991, 10, 1, 'Mickey'], [1990, 12, 30, 'Alice'], [1990, 9, 20, 'Garfield'], [1990, 9, 18, 'Jerry']]\n",
            "Tom\n",
            "Jerry\n"
          ]
        }
      ],
      "source": [
        "arr1 = []\n",
        "arr2 = []\n",
        "\n",
        "for _ in range(int(input())):\n",
        "    n, d, m, y = map(input().split())\n",
        "    arr1.append([y,m,d,n])\n",
        "    arr2.append([y,m,d,n])\n",
        "\n",
        "arr1.sort()\n",
        "arr2.sort(reverse=True)\n",
        "print(arr1)\n",
        "print(arr2)\n",
        "print(arr2[0][3])\n",
        "print(arr1[0][3])"
      ]
    }
  ]
}