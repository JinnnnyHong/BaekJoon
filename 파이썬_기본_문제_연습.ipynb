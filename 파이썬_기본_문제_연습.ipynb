{
  "nbformat": 4,
  "nbformat_minor": 0,
  "metadata": {
    "colab": {
      "provenance": [],
      "authorship_tag": "ABX9TyNr0zRSX+/mTOT9QlWPjuMX",
      "include_colab_link": true
    },
    "kernelspec": {
      "name": "python3",
      "display_name": "Python 3"
    },
    "language_info": {
      "name": "python"
    }
  },
  "cells": [
    {
      "cell_type": "markdown",
      "metadata": {
        "id": "view-in-github",
        "colab_type": "text"
      },
      "source": [
        "<a href=\"https://colab.research.google.com/github/JinnnnyHong/BaekJoon/blob/main/%ED%8C%8C%EC%9D%B4%EC%8D%AC_%EA%B8%B0%EB%B3%B8_%EB%AC%B8%EC%A0%9C_%EC%97%B0%EC%8A%B5.ipynb\" target=\"_parent\"><img src=\"https://colab.research.google.com/assets/colab-badge.svg\" alt=\"Open In Colab\"/></a>"
      ]
    },
    {
      "cell_type": "markdown",
      "source": [
        "### 2574\n"
      ],
      "metadata": {
        "id": "F8gH-fnyp4cM"
      }
    },
    {
      "cell_type": "code",
      "execution_count": null,
      "metadata": {
        "colab": {
          "base_uri": "https://localhost:8080/"
        },
        "id": "UvCuw2sipx6L",
        "outputId": "819eea8b-69b9-4a35-c08d-20b476c74419"
      },
      "outputs": [
        {
          "output_type": "stream",
          "name": "stdout",
          "text": [
            "A0\n",
            "4.0\n"
          ]
        }
      ],
      "source": [
        "a = str(input())\n",
        "if a == 'A+':\n",
        "    print(4.3)\n",
        "elif a == 'A0':\n",
        "    print(4.0)\n",
        "\n",
        "elif a == 'A-':\n",
        "    print(3.7)\n",
        "\n",
        "elif a == 'B+':\n",
        "    print(3.3)\n",
        "elif a == 'B0':\n",
        "    print(3.0)\n",
        "\n",
        "elif a == 'B-':\n",
        "    print(2.7)\n",
        "\n",
        "elif a == 'C+':\n",
        "    print(2.3)\n",
        "elif a == 'C0':\n",
        "    print(2.0)\n",
        "\n",
        "elif a == 'C-':\n",
        "    print(1.7)\n",
        "\n",
        "elif a == 'D+':\n",
        "    print(1.3)\n",
        "elif a == 'D0':\n",
        "    print(1.0)\n",
        "\n",
        "elif a == 'D-':\n",
        "    print(0.7)\n",
        "elif a == 'F':\n",
        "  print(0.0)"
      ]
    },
    {
      "cell_type": "markdown",
      "source": [
        "### 2476"
      ],
      "metadata": {
        "id": "rk3rr_hIqkOm"
      }
    },
    {
      "cell_type": "code",
      "source": [
        "L = []\n",
        "for _ in range(int(input())):\n",
        "  a, b, c = map(int, input().split())\n",
        "  if a == b == c:\n",
        "    L.append(10000 + a*1000)\n",
        "  elif a == b and a != c:\n",
        "    L.append(1000 + a*100)\n",
        "  elif a == c and a != b:\n",
        "    L.append(1000 + a*100)\n",
        "  elif b == c and b != a:\n",
        "    L.append(1000 + b*100)\n",
        "  elif a != b and b != c and a != c:\n",
        "    L.append(max(a,b,c) * 100)\n",
        "print(max(L))"
      ],
      "metadata": {
        "colab": {
          "base_uri": "https://localhost:8080/"
        },
        "id": "yfCeu3cEqRcm",
        "outputId": "72e18e48-1110-4c13-b3aa-11580307ceb4"
      },
      "execution_count": null,
      "outputs": [
        {
          "output_type": "stream",
          "name": "stdout",
          "text": [
            "3\n",
            "3 3 6\n",
            "2 2 2\n",
            "6 2 5\n",
            "12000\n"
          ]
        }
      ]
    },
    {
      "cell_type": "markdown",
      "source": [
        "### 5063"
      ],
      "metadata": {
        "id": "rXJ2STsSxL-s"
      }
    },
    {
      "cell_type": "code",
      "source": [
        "for _ in range(int(input())):\n",
        "  r,e,c = map(int, input().split())\n",
        "  if r < e-c:\n",
        "    print('advertise')\n",
        "  elif r == e-c:\n",
        "    print('does not matter')\n",
        "  else:\n",
        "    print('do not advertise')"
      ],
      "metadata": {
        "colab": {
          "base_uri": "https://localhost:8080/"
        },
        "id": "dr7IevbvxOS5",
        "outputId": "ed42ebcd-dbe1-41af-9a5e-091051fb91c4"
      },
      "execution_count": null,
      "outputs": [
        {
          "output_type": "stream",
          "name": "stdout",
          "text": [
            "3\n",
            "0 100 79\n",
            "advertise\n",
            "100 130 30\n",
            "does not matter\n",
            "-100 -70 40\n",
            "do not advertise\n"
          ]
        }
      ]
    },
    {
      "cell_type": "markdown",
      "source": [
        "### 10102"
      ],
      "metadata": {
        "id": "pt198K9Ix5MF"
      }
    },
    {
      "cell_type": "code",
      "source": [
        "v = int(input())\n",
        "k = str(input())\n",
        "C = []\n",
        "D = []\n",
        "for _ in range(len(k)):\n",
        "  for A in k:\n",
        "    C.append(A)\n",
        "    for B in k:\n",
        "      D.append(B)\n",
        "  if len(C) < len(D):\n",
        "    print(B)\n",
        "  elif len(C) > len(D):\n",
        "    print(A)\n",
        "  else:\n",
        "    print('tie')"
      ],
      "metadata": {
        "colab": {
          "base_uri": "https://localhost:8080/"
        },
        "id": "v-bAWXZSxsG3",
        "outputId": "aa4d8b79-814a-4fd9-afe9-aed2ddd07b3e"
      },
      "execution_count": null,
      "outputs": [
        {
          "output_type": "stream",
          "name": "stdout",
          "text": [
            "5\n",
            "AABBA\n",
            "A\n",
            "A\n",
            "A\n",
            "A\n",
            "A\n"
          ]
        }
      ]
    },
    {
      "cell_type": "markdown",
      "source": [
        "### 5717"
      ],
      "metadata": {
        "id": "UbGpjPqSsGkP"
      }
    },
    {
      "cell_type": "code",
      "source": [
        "while True:\n",
        "  a, b = map(int, input().split())\n",
        "  if a==0 and b == 0:\n",
        "    break\n",
        "  else:\n",
        "    print(a+b)\n",
        "\n",
        "\n"
      ],
      "metadata": {
        "id": "5CIihNyLyFbU",
        "colab": {
          "base_uri": "https://localhost:8080/"
        },
        "outputId": "79dd712f-ceb0-4158-c6ad-b0e236169bf5"
      },
      "execution_count": null,
      "outputs": [
        {
          "name": "stdout",
          "output_type": "stream",
          "text": [
            "0 0\n"
          ]
        }
      ]
    },
    {
      "cell_type": "markdown",
      "source": [
        "### 9610"
      ],
      "metadata": {
        "id": "lN_0Ry_itST3"
      }
    },
    {
      "cell_type": "code",
      "source": [
        "Q1 = 0\n",
        "Q2 = 0\n",
        "Q3 = 0\n",
        "Q4 = 0\n",
        "AXIS = 0\n",
        "for i in range(int(input())):\n",
        "  a, b = map(int, input().split())\n",
        "  if a > 0 and b>0:\n",
        "    Q1 += 1\n",
        "  elif a < 0 and b >0:\n",
        "    Q2 += 1\n",
        "  elif a <0 and b <0:\n",
        "    Q3 += 1\n",
        "  elif a >0 and b <0:\n",
        "    Q4 += 1\n",
        "  elif a == 0 or b ==0:\n",
        "    AXIS += 1\n",
        "print('Q1: %d'%(Q1))\n",
        "print('Q2: %d'%(Q2))\n",
        "print('Q3: %d'%(Q3))\n",
        "print('Q4: %d'%(Q4))\n",
        "print('AXIS: %d'%(AXIS))\n"
      ],
      "metadata": {
        "colab": {
          "base_uri": "https://localhost:8080/"
        },
        "id": "ToUbZ6w7sb3D",
        "outputId": "7d5dc30a-dfaa-4ffb-e22b-1843331653d4"
      },
      "execution_count": null,
      "outputs": [
        {
          "output_type": "stream",
          "name": "stdout",
          "text": [
            "5\n",
            "0 0\n",
            "0 1\n",
            "1 1\n",
            "3 -3\n",
            "2 2\n",
            "Q1: 2\n",
            "Q2: 0\n",
            "Q3: 1\n",
            "Q4: 0\n",
            "AXIS: 2\n"
          ]
        }
      ]
    },
    {
      "cell_type": "markdown",
      "source": [
        "### 10103"
      ],
      "metadata": {
        "id": "VFXgsrhQwpPf"
      }
    },
    {
      "cell_type": "code",
      "source": [
        "a = 100\n",
        "b = 100\n",
        "for _ in range(int(input())):\n",
        "  k, j = map(int,(input().split()))\n",
        "  if k > j:\n",
        "    b -= k\n",
        "  elif k < j:\n",
        "    a -= j\n",
        "print(a)\n",
        "print(b)"
      ],
      "metadata": {
        "colab": {
          "base_uri": "https://localhost:8080/"
        },
        "id": "gsfNKmjdutt1",
        "outputId": "a773794f-804a-40fe-efd6-2906da9314d1"
      },
      "execution_count": null,
      "outputs": [
        {
          "output_type": "stream",
          "name": "stdout",
          "text": [
            "4\n",
            "5 6\n",
            "6 6\n",
            "4 3\n",
            "5 2\n",
            "94\n",
            "91\n"
          ]
        }
      ]
    },
    {
      "cell_type": "markdown",
      "source": [
        "### 2914"
      ],
      "metadata": {
        "id": "zUHKreRoZPeU"
      }
    },
    {
      "cell_type": "code",
      "source": [
        "a, b = map(int,input().split())\n",
        "c = a *b - a + 1\n",
        "print(c)"
      ],
      "metadata": {
        "id": "nBdzdmy77X9I",
        "colab": {
          "base_uri": "https://localhost:8080/"
        },
        "outputId": "6fb067f5-87de-429c-e18f-e409705806d8"
      },
      "execution_count": null,
      "outputs": [
        {
          "output_type": "stream",
          "name": "stdout",
          "text": [
            "10 10\n",
            "91\n"
          ]
        }
      ]
    },
    {
      "cell_type": "markdown",
      "source": [
        "### 1934"
      ],
      "metadata": {
        "id": "Wpq2gURMcJ0h"
      }
    },
    {
      "cell_type": "code",
      "source": [
        "import math\n",
        "\n",
        "for i in range(int(input())):\n",
        "  a, b = map(int, input().split())\n",
        "  print(math.lcm(a,b))\n"
      ],
      "metadata": {
        "id": "QgvDRaQ4aufd",
        "colab": {
          "base_uri": "https://localhost:8080/"
        },
        "outputId": "77bf55bd-2400-44ab-c803-5d6167dcc6bb"
      },
      "execution_count": null,
      "outputs": [
        {
          "output_type": "stream",
          "name": "stdout",
          "text": [
            "1\n",
            "1 45000\n",
            "45000\n"
          ]
        }
      ]
    },
    {
      "cell_type": "markdown",
      "source": [
        "### 10156"
      ],
      "metadata": {
        "id": "MlR7NPzhd4Ei"
      }
    },
    {
      "cell_type": "code",
      "source": [
        "a,b,c = map(int,input().split())\n",
        "if a * b > c:\n",
        "  print(a*b-c)\n",
        "else:\n",
        "  print(0)"
      ],
      "metadata": {
        "colab": {
          "base_uri": "https://localhost:8080/"
        },
        "id": "AUCm2KvHddce",
        "outputId": "92636e4f-7b22-47fa-dc0d-1bbf168b538a"
      },
      "execution_count": null,
      "outputs": [
        {
          "output_type": "stream",
          "name": "stdout",
          "text": [
            "20 6 120\n",
            "0\n"
          ]
        }
      ]
    },
    {
      "cell_type": "markdown",
      "source": [
        "### 3009"
      ],
      "metadata": {
        "id": "8_7D3MRneRrc"
      }
    },
    {
      "cell_type": "code",
      "source": [
        "a,b = map(int, input().split())\n",
        "c,d = map(int, input().split())\n",
        "e,f = map(int, input().split())\n",
        "if a==c & b == f:\n",
        "  print(e, d)\n",
        "elif a == c and d == f:\n",
        "  print(e, b)\n",
        "elif a == e & b == d:\n",
        "  print(c, f)\n",
        "elif a == e and d == f:\n",
        "  print(c, b)\n",
        "elif c == e and d == b:\n",
        "  print(a, f)\n",
        "elif c == e and b == f:\n",
        "  print(a, d)\n",
        "elif c == a and d == f:\n",
        "  print(e, b)\n",
        "elif c == a and b == f:\n",
        "  print(e, d)"
      ],
      "metadata": {
        "colab": {
          "base_uri": "https://localhost:8080/"
        },
        "id": "ZLWT1a4eeFC5",
        "outputId": "bf4345cc-e6c9-4e97-869c-c120148309ae"
      },
      "execution_count": null,
      "outputs": [
        {
          "output_type": "stream",
          "name": "stdout",
          "text": [
            "30 20\n",
            "10 10\n",
            "10 20\n",
            "30 10\n"
          ]
        }
      ]
    },
    {
      "cell_type": "markdown",
      "source": [
        "### 7567"
      ],
      "metadata": {
        "id": "6UMT1dkNOkCq"
      }
    },
    {
      "cell_type": "code",
      "source": [
        "a = list(str(input()))\n",
        "k =0\n",
        "for i in range(len(a)):\n",
        "  if i == 0:\n",
        "    k += 10\n",
        "  elif a[i] == a[i-1]:\n",
        "    k += 5\n",
        "  else:\n",
        "    k += 10\n",
        "print(k)\n"
      ],
      "metadata": {
        "colab": {
          "base_uri": "https://localhost:8080/"
        },
        "id": "yjDzsQa_fR-e",
        "outputId": "70cd0644-b65a-4cec-eec7-5834ba99082c"
      },
      "execution_count": null,
      "outputs": [
        {
          "output_type": "stream",
          "name": "stdout",
          "text": [
            "((((\n",
            "25\n"
          ]
        }
      ]
    },
    {
      "cell_type": "markdown",
      "source": [
        "### 10102"
      ],
      "metadata": {
        "id": "2wtXja2kQPNj"
      }
    },
    {
      "cell_type": "code",
      "source": [
        "t = int(input())\n",
        "a = list(str(input()))\n",
        "A = B = 0\n",
        "\n",
        "for i in a:\n",
        "  if i == \"A\":\n",
        "    A += 1\n",
        "  else:\n",
        "    B += 1\n",
        "\n",
        "if A >B:\n",
        "  print(\"A\")\n",
        "elif A < B :\n",
        "  print(\"B\")\n",
        "elif A == B:\n",
        "  print('Tie')"
      ],
      "metadata": {
        "colab": {
          "base_uri": "https://localhost:8080/"
        },
        "id": "L8iNRS2uOv1I",
        "outputId": "314b3861-2d14-4d75-a03b-50d5d0cdc675"
      },
      "execution_count": null,
      "outputs": [
        {
          "output_type": "stream",
          "name": "stdout",
          "text": [
            "3\n",
            "AAB\n",
            "A\n"
          ]
        }
      ]
    },
    {
      "cell_type": "markdown",
      "source": [
        "### 10886"
      ],
      "metadata": {
        "id": "0qmQmbC-SIiz"
      }
    },
    {
      "cell_type": "code",
      "source": [
        "a = 0\n",
        "b = 0\n",
        "for i in range(int(input())):\n",
        "  k = int(input())\n",
        "  if k == 1:\n",
        "    a +=1\n",
        "  else:\n",
        "    b += 1\n",
        "if a > b:\n",
        "  print(\"Junhee is cute!\")\n",
        "else:\n",
        "  print(\"Junhee is not cute!\")"
      ],
      "metadata": {
        "colab": {
          "base_uri": "https://localhost:8080/"
        },
        "id": "amSVnyFsQbao",
        "outputId": "e0fbf9a8-da32-47d6-b851-0dc24da12cb6"
      },
      "execution_count": null,
      "outputs": [
        {
          "output_type": "stream",
          "name": "stdout",
          "text": [
            "3\n",
            "1\n",
            "0\n",
            "0\n",
            "Junhee is not cute!\n"
          ]
        }
      ]
    },
    {
      "cell_type": "markdown",
      "source": [
        "### 10162"
      ],
      "metadata": {
        "id": "eUwY8j4ASvYM"
      }
    },
    {
      "cell_type": "code",
      "source": [
        "T = int(input())\n",
        "if T % 10 != 0:\n",
        "  print(-1)\n",
        "else:\n",
        "  A = B = C = 0\n",
        "  A = T//300\n",
        "  B = (T % 300)//60\n",
        "  C = ((T %300) % 60) //10\n",
        "  print(A, B, C)\n"
      ],
      "metadata": {
        "colab": {
          "base_uri": "https://localhost:8080/"
        },
        "id": "Mtx_U1HsS295",
        "outputId": "06724a53-6cef-4305-88dc-86e2ac273640"
      },
      "execution_count": null,
      "outputs": [
        {
          "output_type": "stream",
          "name": "stdout",
          "text": [
            "100\n",
            "0 1 4\n"
          ]
        }
      ]
    },
    {
      "cell_type": "markdown",
      "source": [
        "### 1977"
      ],
      "metadata": {
        "id": "JF3MK0tUZIqU"
      }
    },
    {
      "cell_type": "code",
      "source": [
        "M = int(input())\n",
        "N = int(input())\n",
        "L = []\n",
        "for i in range(M, N+1):\n",
        "  if i**(1/2) == int(i**(1/2)):\n",
        "    L.append(i)\n",
        "if len(L) == 0:\n",
        "  print(-1)\n",
        "else:\n",
        "  print(sum(L))\n",
        "  print(min(L))\n",
        "\n"
      ],
      "metadata": {
        "colab": {
          "base_uri": "https://localhost:8080/"
        },
        "id": "-whkeEHmYb76",
        "outputId": "5d910965-5987-4843-a085-11c31f2665cb"
      },
      "execution_count": null,
      "outputs": [
        {
          "output_type": "stream",
          "name": "stdout",
          "text": [
            "75\n",
            "80\n",
            "-1\n"
          ]
        }
      ]
    },
    {
      "cell_type": "markdown",
      "source": [
        "### 2440"
      ],
      "metadata": {
        "id": "3dzRiiU6YlS-"
      }
    },
    {
      "cell_type": "code",
      "source": [
        "n = int(input())\n",
        "while True:\n",
        "  print('*'*n)\n",
        "  n -= 1\n",
        "  if n ==0:\n",
        "    break"
      ],
      "metadata": {
        "id": "7vUYVLiifzEa",
        "colab": {
          "base_uri": "https://localhost:8080/"
        },
        "outputId": "e0e96e64-a1f2-488a-d42b-06be8be71b46"
      },
      "execution_count": null,
      "outputs": [
        {
          "output_type": "stream",
          "name": "stdout",
          "text": [
            "5\n",
            "*****\n",
            "****\n",
            "***\n",
            "**\n",
            "*\n"
          ]
        }
      ]
    },
    {
      "cell_type": "markdown",
      "source": [
        "### 2441"
      ],
      "metadata": {
        "id": "G0DX7HpXxUtG"
      }
    },
    {
      "cell_type": "code",
      "source": [
        "n = int(input())\n",
        "i = 0\n",
        "while i < n:\n",
        "  k = n-i\n",
        "  print(\" \"*i + \"*\"*k)\n",
        "  i += 1"
      ],
      "metadata": {
        "colab": {
          "base_uri": "https://localhost:8080/"
        },
        "id": "LHdF3oQJw6OC",
        "outputId": "07fa9000-47f0-4db0-db2e-44a6c023f282"
      },
      "execution_count": null,
      "outputs": [
        {
          "output_type": "stream",
          "name": "stdout",
          "text": [
            "5\n",
            "*****\n",
            " ****\n",
            "  ***\n",
            "   **\n",
            "    *\n"
          ]
        }
      ]
    },
    {
      "cell_type": "markdown",
      "source": [
        "### 2609"
      ],
      "metadata": {
        "id": "N-aaDXscyxX6"
      }
    },
    {
      "cell_type": "code",
      "source": [
        "import math\n",
        "a,b = map(int, input().split())\n",
        "print(math.gcd(a,b))\n",
        "print(math.lcm(a,b))"
      ],
      "metadata": {
        "colab": {
          "base_uri": "https://localhost:8080/"
        },
        "id": "5WS0QofCx2TZ",
        "outputId": "abdee5b2-083f-4d7b-beea-174210551c61"
      },
      "execution_count": null,
      "outputs": [
        {
          "output_type": "stream",
          "name": "stdout",
          "text": [
            "24 18\n",
            "6\n",
            "72\n"
          ]
        }
      ]
    },
    {
      "cell_type": "markdown",
      "source": [
        "### 2748"
      ],
      "metadata": {
        "id": "ZY5qYwMizX6b"
      }
    },
    {
      "cell_type": "code",
      "source": [
        "n = int(input())\n",
        "L = []\n",
        "L.append(0)\n",
        "L.append(1)\n",
        "for i in range(2,n+1):\n",
        "    L.append(L[i-1]+L[i-2])\n",
        "\n",
        "print(L[n])"
      ],
      "metadata": {
        "colab": {
          "base_uri": "https://localhost:8080/"
        },
        "id": "yPJdcdXXy5C5",
        "outputId": "2d0aeba6-7c7b-4573-d139-75cdf88110a3"
      },
      "execution_count": null,
      "outputs": [
        {
          "output_type": "stream",
          "name": "stdout",
          "text": [
            "10\n",
            "55\n"
          ]
        }
      ]
    },
    {
      "cell_type": "markdown",
      "source": [
        "### 2443"
      ],
      "metadata": {
        "id": "YMUc2hQhy3X8"
      }
    },
    {
      "cell_type": "code",
      "source": [
        "a = int(input())\n",
        "for i in range(1, a+1):\n",
        "  b = \" \" * (a-i) + \"*\" *(2*i -1)\n",
        "  print(b)"
      ],
      "metadata": {
        "id": "N31euk_a7LC4",
        "colab": {
          "base_uri": "https://localhost:8080/"
        },
        "outputId": "4706f018-43d8-43e5-ca50-9ac12831150f"
      },
      "execution_count": null,
      "outputs": [
        {
          "output_type": "stream",
          "name": "stdout",
          "text": [
            "3\n",
            "  *\n",
            " ***\n",
            "*****\n"
          ]
        }
      ]
    }
  ]
}